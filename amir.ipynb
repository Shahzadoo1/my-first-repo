{
 "cells": [
  {
   "cell_type": "code",
   "execution_count": null,
   "metadata": {},
   "outputs": [],
   "source": [
    "print(\"this github project is for testing purposes only\")\n",
    "print(\"this github project is for testing purposes only\")\n",
    "print(\"this github project is for testing purposes only\")\n",
    "print(\"this github project is for testing purposes only\")"
   ]
  },
  {
   "cell_type": "code",
   "execution_count": null,
   "metadata": {},
   "outputs": [],
   "source": [
    "print(\"less typing\")\n",
    "print(\"lests see if this works\")"
   ]
  }
 ],
 "metadata": {
  "language_info": {
   "name": "python"
  },
  "orig_nbformat": 4
 },
 "nbformat": 4,
 "nbformat_minor": 2
}
